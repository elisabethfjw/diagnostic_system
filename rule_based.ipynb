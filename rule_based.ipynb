{
 "cells": [
  {
   "cell_type": "code",
   "execution_count": 8,
   "metadata": {},
   "outputs": [],
   "source": [
    "# Dependencies\n",
    "# Data Processing\n",
    "import pandas as pd\n",
    "import numpy as np\n",
    "import pickle\n",
    "\n",
    "# Modelling\n",
    "from sklearn.metrics import accuracy_score, precision_score, recall_score, f1_score\n",
    "from sklearn.model_selection import train_test_split\n",
    "from scipy.stats import randint"
   ]
  },
  {
   "cell_type": "code",
   "execution_count": 9,
   "metadata": {},
   "outputs": [],
   "source": [
    "# Load the dataset\n",
    "with open('wdbc.pkl', 'rb') as file:  # read binary\n",
    "    data = pickle.load(file)\n",
    "\n",
    "df = pd.DataFrame(data)"
   ]
  },
  {
   "cell_type": "code",
   "execution_count": 10,
   "metadata": {},
   "outputs": [],
   "source": [
    "# Extract features and labels\n",
    "features = df.iloc[:, 2:]\n",
    "label = df['malignant']# to be predicted\n"
   ]
  },
  {
   "cell_type": "code",
   "execution_count": 11,
   "metadata": {},
   "outputs": [],
   "source": [
    "# Split the data into training and testing sets\n",
    "X_train, X_test, y_train, y_test = train_test_split(features, label, test_size=0.2, random_state=42)\n"
   ]
  },
  {
   "cell_type": "code",
   "execution_count": 12,
   "metadata": {},
   "outputs": [],
   "source": [
    "# Rule-based classifier\n",
    "def rule_based_classifier(data, threshold_size, threshold_shape, threshold_texture, threshold_concavity, threshold_homogeneity, threshold_perimeter):\n",
    "    # Rules\n",
    "    # 1) significantly larger cells\n",
    "    abnormal_size = data['radius_0'] > threshold_size\n",
    "    # 2) arbitrary structures\n",
    "    abnormal_shape = data['concavity_0'] > threshold_shape\n",
    "    # 3) colour of cell nucleus\n",
    "    abnormal_texture = data['texture_0'] > threshold_texture\n",
    "    # 4) lumpy texture\n",
    "    abnormal_concavity = data['concave points_0'] > threshold_concavity\n",
    "    # 5) smooth texture\n",
    "    abnormal_homogeneity = data['fractal dimension_0'] < threshold_homogeneity \n",
    "    # 6) spread out\n",
    "    abnormal_width = data['smoothness_0'] > threshold_perimeter\n",
    "\n",
    "    \n",
    "    # Apply rules with a boolean mask to identify instances where the diagnosis is malignant\n",
    "    malignant_mask = abnormal_size | abnormal_shape | abnormal_texture | abnormal_concavity | abnormal_homogeneity | abnormal_width\n",
    "    \n",
    "    # Assign diagnosis based on rules\n",
    "    # 1) Initialize all instances as benign\n",
    "    diagnosis = pd.Series('benign', index=data.index)\n",
    "    # 2) When malignant_mask is true, diagnosis updated to malignant\n",
    "    diagnosis[malignant_mask] = 'malignant'\n",
    "    \n",
    "    return diagnosis"
   ]
  },
  {
   "cell_type": "code",
   "execution_count": 13,
   "metadata": {},
   "outputs": [],
   "source": [
    "# Set threshold values (you may need to adjust these based on your data)\n",
    "threshold_size = df['radius_0'].mean()\n",
    "threshold_shape = df['concavity_0'].mean()\n",
    "threshold_texture = df['texture_0'].mean()\n",
    "threshold_concavity = df['concave points_0'].mean()\n",
    "threshold_homogeneity = df['fractal dimension_0'].mean()\n",
    "threshold_perimeter = df['smoothness_0'].mean()"
   ]
  },
  {
   "cell_type": "code",
   "execution_count": 14,
   "metadata": {},
   "outputs": [
    {
     "name": "stdout",
     "output_type": "stream",
     "text": [
      "Training Set Metrics:\n",
      "Accuracy: 0.41\n",
      "Precision: 0.39\n",
      "Recall: 1.00\n",
      "F1-Score: 0.56\n",
      "\n",
      "Test Set Metrics:\n",
      "Accuracy: 0.39\n",
      "Precision: 0.38\n",
      "Recall: 1.00\n",
      "F1-Score: 0.55\n"
     ]
    }
   ],
   "source": [
    "# Apply the rule-based classifier on the training set\n",
    "train_predictions = rule_based_classifier(features, threshold_size, threshold_shape, threshold_texture, threshold_concavity, threshold_homogeneity, threshold_perimeter)\n",
    "\n",
    "# Convert string labels to numerical labels\n",
    "train_predictions_numeric = train_predictions.map({'benign': 0, 'malignant': 1})\n",
    "\n",
    "# Evaluate the classifier on the training set\n",
    "train_accuracy = accuracy_score(label, train_predictions_numeric)\n",
    "train_precision = precision_score(label, train_predictions_numeric)\n",
    "train_recall = recall_score(label, train_predictions_numeric)\n",
    "train_f1 = f1_score(label, train_predictions_numeric)\n",
    "\n",
    "# Display evaluation metrics for the training set\n",
    "print(\"Training Set Metrics:\")\n",
    "print(f\"Accuracy: {train_accuracy:.2f}\")\n",
    "print(f\"Precision: {train_precision:.2f}\")\n",
    "print(f\"Recall: {train_recall:.2f}\")\n",
    "print(f\"F1-Score: {train_f1:.2f}\")\n",
    "\n",
    "# Apply the rule-based classifier on the test set\n",
    "test_predictions = rule_based_classifier(X_test, threshold_size, threshold_shape, threshold_texture, threshold_concavity, threshold_homogeneity, threshold_perimeter)\n",
    "\n",
    "# Convert string labels to numerical labels\n",
    "test_predictions_numeric = test_predictions.map({'benign': 0, 'malignant': 1})\n",
    "\n",
    "# Evaluate the classifier on the test set\n",
    "test_accuracy = accuracy_score(y_test, test_predictions_numeric)\n",
    "test_precision = precision_score(y_test, test_predictions_numeric)\n",
    "test_recall = recall_score(y_test, test_predictions_numeric)\n",
    "test_f1 = f1_score(y_test, test_predictions_numeric)\n",
    "\n",
    "# Display evaluation metrics for the test set\n",
    "print(\"\\nTest Set Metrics:\")\n",
    "print(f\"Accuracy: {test_accuracy:.2f}\")\n",
    "print(f\"Precision: {test_precision:.2f}\")\n",
    "print(f\"Recall: {test_recall:.2f}\")\n",
    "print(f\"F1-Score: {test_f1:.2f}\")\n"
   ]
  }
 ],
 "metadata": {
  "kernelspec": {
   "display_name": "Python 3",
   "language": "python",
   "name": "python3"
  },
  "language_info": {
   "codemirror_mode": {
    "name": "ipython",
    "version": 3
   },
   "file_extension": ".py",
   "mimetype": "text/x-python",
   "name": "python",
   "nbconvert_exporter": "python",
   "pygments_lexer": "ipython3",
   "version": "3.9.6"
  }
 },
 "nbformat": 4,
 "nbformat_minor": 2
}
